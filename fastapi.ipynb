{
  "nbformat": 4,
  "nbformat_minor": 0,
  "metadata": {
    "colab": {
      "provenance": []
    },
    "kernelspec": {
      "name": "python3",
      "display_name": "Python 3"
    },
    "language_info": {
      "name": "python"
    }
  },
  "cells": [
    {
      "cell_type": "code",
      "source": [
        "!pip install fastapi"
      ],
      "metadata": {
        "colab": {
          "base_uri": "https://localhost:8080/"
        },
        "id": "ybWVuxE9-2Xq",
        "outputId": "1ae60db0-36dc-47fd-921e-534b5d2baf11"
      },
      "execution_count": 2,
      "outputs": [
        {
          "output_type": "stream",
          "name": "stdout",
          "text": [
            "Collecting fastapi\n",
            "  Downloading fastapi-0.115.6-py3-none-any.whl.metadata (27 kB)\n",
            "Collecting starlette<0.42.0,>=0.40.0 (from fastapi)\n",
            "  Downloading starlette-0.41.3-py3-none-any.whl.metadata (6.0 kB)\n",
            "Requirement already satisfied: pydantic!=1.8,!=1.8.1,!=2.0.0,!=2.0.1,!=2.1.0,<3.0.0,>=1.7.4 in /usr/local/lib/python3.11/dist-packages (from fastapi) (2.10.5)\n",
            "Requirement already satisfied: typing-extensions>=4.8.0 in /usr/local/lib/python3.11/dist-packages (from fastapi) (4.12.2)\n",
            "Requirement already satisfied: annotated-types>=0.6.0 in /usr/local/lib/python3.11/dist-packages (from pydantic!=1.8,!=1.8.1,!=2.0.0,!=2.0.1,!=2.1.0,<3.0.0,>=1.7.4->fastapi) (0.7.0)\n",
            "Requirement already satisfied: pydantic-core==2.27.2 in /usr/local/lib/python3.11/dist-packages (from pydantic!=1.8,!=1.8.1,!=2.0.0,!=2.0.1,!=2.1.0,<3.0.0,>=1.7.4->fastapi) (2.27.2)\n",
            "Requirement already satisfied: anyio<5,>=3.4.0 in /usr/local/lib/python3.11/dist-packages (from starlette<0.42.0,>=0.40.0->fastapi) (3.7.1)\n",
            "Requirement already satisfied: idna>=2.8 in /usr/local/lib/python3.11/dist-packages (from anyio<5,>=3.4.0->starlette<0.42.0,>=0.40.0->fastapi) (3.10)\n",
            "Requirement already satisfied: sniffio>=1.1 in /usr/local/lib/python3.11/dist-packages (from anyio<5,>=3.4.0->starlette<0.42.0,>=0.40.0->fastapi) (1.3.1)\n",
            "Downloading fastapi-0.115.6-py3-none-any.whl (94 kB)\n",
            "\u001b[2K   \u001b[90m━━━━━━━━━━━━━━━━━━━━━━━━━━━━━━━━━━━━━━━━\u001b[0m \u001b[32m94.8/94.8 kB\u001b[0m \u001b[31m6.5 MB/s\u001b[0m eta \u001b[36m0:00:00\u001b[0m\n",
            "\u001b[?25hDownloading starlette-0.41.3-py3-none-any.whl (73 kB)\n",
            "\u001b[2K   \u001b[90m━━━━━━━━━━━━━━━━━━━━━━━━━━━━━━━━━━━━━━━━\u001b[0m \u001b[32m73.2/73.2 kB\u001b[0m \u001b[31m5.6 MB/s\u001b[0m eta \u001b[36m0:00:00\u001b[0m\n",
            "\u001b[?25hInstalling collected packages: starlette, fastapi\n",
            "Successfully installed fastapi-0.115.6 starlette-0.41.3\n"
          ]
        }
      ]
    },
    {
      "cell_type": "code",
      "source": [
        "!pip install uvicorn"
      ],
      "metadata": {
        "colab": {
          "base_uri": "https://localhost:8080/"
        },
        "id": "eW4FTyTJAUcx",
        "outputId": "989eb24b-08e7-404c-ff63-92db34434923"
      },
      "execution_count": 12,
      "outputs": [
        {
          "output_type": "stream",
          "name": "stdout",
          "text": [
            "Collecting uvicorn\n",
            "  Downloading uvicorn-0.34.0-py3-none-any.whl.metadata (6.5 kB)\n",
            "Requirement already satisfied: click>=7.0 in /usr/local/lib/python3.11/dist-packages (from uvicorn) (8.1.8)\n",
            "Requirement already satisfied: h11>=0.8 in /usr/local/lib/python3.11/dist-packages (from uvicorn) (0.14.0)\n",
            "Downloading uvicorn-0.34.0-py3-none-any.whl (62 kB)\n",
            "\u001b[?25l   \u001b[90m━━━━━━━━━━━━━━━━━━━━━━━━━━━━━━━━━━━━━━━━\u001b[0m \u001b[32m0.0/62.3 kB\u001b[0m \u001b[31m?\u001b[0m eta \u001b[36m-:--:--\u001b[0m\r\u001b[2K   \u001b[90m━━━━━━━━━━━━━━━━━━━━━━━━━━━━━━━━━━━━━━━━\u001b[0m \u001b[32m62.3/62.3 kB\u001b[0m \u001b[31m2.5 MB/s\u001b[0m eta \u001b[36m0:00:00\u001b[0m\n",
            "\u001b[?25hInstalling collected packages: uvicorn\n",
            "Successfully installed uvicorn-0.34.0\n"
          ]
        }
      ]
    },
    {
      "cell_type": "code",
      "source": [
        "from fastapi import FastAPI, HTTPException, Request\n",
        "from pydantic import BaseModel\n",
        "import uvicorn\n",
        "import nest_asyncio\n",
        "import asyncio\n",
        "app = FastAPI()\n",
        "\n",
        "# Example model for email webhook data\n",
        "class EmailWebhook(BaseModel):\n",
        "    subject: str\n",
        "    sender: str\n",
        "    body: str\n",
        "\n",
        "# Example model for checking escalation\n",
        "class EscalationCheck(BaseModel):\n",
        "    priority: str\n",
        "    issue_details: str\n",
        "\n",
        "# Example model for response automation\n",
        "class AutomationResponse(BaseModel):\n",
        "    user_query: str\n",
        "\n",
        "# Placeholder for sentiment analysis function\n",
        "def analyze_sentiment(text: str) -> str:\n",
        "    # This should integrate your ML model\n",
        "    return \"positive\"  # Dummy response\n",
        "\n",
        "@app.get(\"/get_sentiment\")\n",
        "async def get_sentiment(text: str):\n",
        "    sentiment = analyze_sentiment(text)\n",
        "    return {\"text\": text, \"sentiment\": sentiment}\n",
        "\n",
        "@app.post(\"/webhook\")\n",
        "async def webhook(email: EmailWebhook):\n",
        "    # Process the incoming email data\n",
        "    print(f\"Received email from {email.sender} with subject: {email.subject}\")\n",
        "    # Implement your logic to handle email\n",
        "    return {\"message\": \"Email processed successfully\"}\n",
        "\n",
        "@app.post(\"/check_escalate\")\n",
        "async def check_escalate(escalation: EscalationCheck):\n",
        "    # Example logic to determine if an issue needs escalation\n",
        "    if escalation.priority == \"high\":\n",
        "        escalate = True\n",
        "    else:\n",
        "        escalate = False\n",
        "    return {\"escalate\": escalate, \"details\": escalation.issue_details}\n",
        "\n",
        "@app.post(\"/response_automation\")\n",
        "async def response_automation(response: AutomationResponse):\n",
        "    # Example logic for automated response\n",
        "    reply = f\"Automated response to your query: {response.user_query}\"\n",
        "    # Implement your ML-based response generation here\n",
        "    return {\"reply\": reply}\n",
        "\n",
        "if __name__ == \"__main__\":\n",
        "    config = uvicorn.Config(app, host=\"0.0.0.0\", port=8000)\n",
        "    server = uvicorn.Server(config)\n",
        "\n",
        "    # Apply nest_asyncio to allow nested event loops\n",
        "    nest_asyncio.apply()\n",
        "\n",
        "    # Use asyncio.create_task instead of directly calling server.serve()\n",
        "    # This allows the server to run concurrently with other tasks in the event loop.\n",
        "    loop = asyncio.get_event_loop()  # Get the current event loop\n",
        "    task = loop.create_task(server.serve())\n",
        "\n",
        "    # Now use loop.run_forever() to start the server\n",
        "    try:\n",
        "        loop.run_forever()\n",
        "    except KeyboardInterrupt:\n",
        "        pass"
      ],
      "metadata": {
        "colab": {
          "base_uri": "https://localhost:8080/"
        },
        "id": "54n2E2eBARP6",
        "outputId": "7e23f480-e4a7-4617-ea04-62a8af3c0828"
      },
      "execution_count": null,
      "outputs": [
        {
          "output_type": "stream",
          "name": "stderr",
          "text": [
            "INFO:     Started server process [2663]\n",
            "INFO:     Waiting for application startup.\n",
            "INFO:     Application startup complete.\n",
            "INFO:     Uvicorn running on http://0.0.0.0:8000 (Press CTRL+C to quit)\n"
          ]
        }
      ]
    }
  ]
}